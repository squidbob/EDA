{
 "cells": [
  {
   "cell_type": "code",
   "execution_count": 2,
   "id": "b93ee48b",
   "metadata": {},
   "outputs": [],
   "source": [
    "import pandas as pd\n",
    "import numpy as np\n",
    "import matplotlib.pyplot as plt\n",
    "import seaborn as sns\n",
    "sns.set_theme(style=\"ticks\", color_codes=True)\n",
    "%matplotlib inline"
   ]
  },
  {
   "cell_type": "code",
   "execution_count": 3,
   "id": "03cb1e49",
   "metadata": {},
   "outputs": [],
   "source": [
    "df=pd.read_csv(\"vaccination-data(26-08-2021).csv\")"
   ]
  },
  {
   "cell_type": "code",
   "execution_count": 4,
   "id": "a8bd3896",
   "metadata": {},
   "outputs": [
    {
     "data": {
      "text/plain": [
       "COUNTRY                                  0\n",
       "ISO3                                     0\n",
       "WHO_REGION                               0\n",
       "DATA_SOURCE                              0\n",
       "DATE_UPDATED                             0\n",
       "TOTAL_VACCINATIONS                       1\n",
       "PERSONS_VACCINATED_1PLUS_DOSE            9\n",
       "TOTAL_VACCINATIONS_PER100                1\n",
       "PERSONS_VACCINATED_1PLUS_DOSE_PER100     9\n",
       "PERSONS_FULLY_VACCINATED                11\n",
       "PERSONS_FULLY_VACCINATED_PER100         11\n",
       "VACCINES_USED                            4\n",
       "FIRST_VACCINE_DATE                      72\n",
       "NUMBER_VACCINES_TYPES_USED               4\n",
       "dtype: int64"
      ]
     },
     "execution_count": 4,
     "metadata": {},
     "output_type": "execute_result"
    }
   ],
   "source": [
    "df.isna().sum()"
   ]
  },
  {
   "cell_type": "code",
   "execution_count": 5,
   "id": "92f32537",
   "metadata": {},
   "outputs": [],
   "source": [
    "df=df.drop(columns=[\"VACCINES_USED\", \"ISO3\", \"DATA_SOURCE\", \"WHO_REGION\", \"FIRST_VACCINE_DATE\"])"
   ]
  },
  {
   "cell_type": "code",
   "execution_count": 6,
   "id": "35486551",
   "metadata": {},
   "outputs": [
    {
     "data": {
      "text/html": [
       "<div>\n",
       "<style scoped>\n",
       "    .dataframe tbody tr th:only-of-type {\n",
       "        vertical-align: middle;\n",
       "    }\n",
       "\n",
       "    .dataframe tbody tr th {\n",
       "        vertical-align: top;\n",
       "    }\n",
       "\n",
       "    .dataframe thead th {\n",
       "        text-align: right;\n",
       "    }\n",
       "</style>\n",
       "<table border=\"1\" class=\"dataframe\">\n",
       "  <thead>\n",
       "    <tr style=\"text-align: right;\">\n",
       "      <th></th>\n",
       "      <th>COUNTRY</th>\n",
       "      <th>DATE_UPDATED</th>\n",
       "      <th>TOTAL_VACCINATIONS</th>\n",
       "      <th>PERSONS_VACCINATED_1PLUS_DOSE</th>\n",
       "      <th>TOTAL_VACCINATIONS_PER100</th>\n",
       "      <th>PERSONS_VACCINATED_1PLUS_DOSE_PER100</th>\n",
       "      <th>PERSONS_FULLY_VACCINATED</th>\n",
       "      <th>PERSONS_FULLY_VACCINATED_PER100</th>\n",
       "      <th>NUMBER_VACCINES_TYPES_USED</th>\n",
       "    </tr>\n",
       "  </thead>\n",
       "  <tbody>\n",
       "    <tr>\n",
       "      <th>0</th>\n",
       "      <td>Afghanistan</td>\n",
       "      <td>20-08-2021</td>\n",
       "      <td>1201286.0</td>\n",
       "      <td>770542.0</td>\n",
       "      <td>3.086</td>\n",
       "      <td>1.979</td>\n",
       "      <td>430744.0</td>\n",
       "      <td>1.107</td>\n",
       "      <td>4.0</td>\n",
       "    </tr>\n",
       "    <tr>\n",
       "      <th>1</th>\n",
       "      <td>Albania</td>\n",
       "      <td>17-08-2021</td>\n",
       "      <td>1340339.0</td>\n",
       "      <td>764997.0</td>\n",
       "      <td>46.575</td>\n",
       "      <td>26.583</td>\n",
       "      <td>575342.0</td>\n",
       "      <td>19.992</td>\n",
       "      <td>4.0</td>\n",
       "    </tr>\n",
       "    <tr>\n",
       "      <th>2</th>\n",
       "      <td>Algeria</td>\n",
       "      <td>23-08-2021</td>\n",
       "      <td>4146091.0</td>\n",
       "      <td>3421279.0</td>\n",
       "      <td>9.455</td>\n",
       "      <td>7.802</td>\n",
       "      <td>724812.0</td>\n",
       "      <td>1.653</td>\n",
       "      <td>3.0</td>\n",
       "    </tr>\n",
       "    <tr>\n",
       "      <th>3</th>\n",
       "      <td>American Samoa</td>\n",
       "      <td>09-08-2021</td>\n",
       "      <td>52769.0</td>\n",
       "      <td>29210.0</td>\n",
       "      <td>95.601</td>\n",
       "      <td>52.920</td>\n",
       "      <td>24104.0</td>\n",
       "      <td>43.669</td>\n",
       "      <td>3.0</td>\n",
       "    </tr>\n",
       "    <tr>\n",
       "      <th>4</th>\n",
       "      <td>Andorra</td>\n",
       "      <td>15-08-2021</td>\n",
       "      <td>91660.0</td>\n",
       "      <td>51044.0</td>\n",
       "      <td>118.631</td>\n",
       "      <td>66.064</td>\n",
       "      <td>40616.0</td>\n",
       "      <td>52.567</td>\n",
       "      <td>2.0</td>\n",
       "    </tr>\n",
       "    <tr>\n",
       "      <th>...</th>\n",
       "      <td>...</td>\n",
       "      <td>...</td>\n",
       "      <td>...</td>\n",
       "      <td>...</td>\n",
       "      <td>...</td>\n",
       "      <td>...</td>\n",
       "      <td>...</td>\n",
       "      <td>...</td>\n",
       "      <td>...</td>\n",
       "    </tr>\n",
       "    <tr>\n",
       "      <th>222</th>\n",
       "      <td>Viet Nam</td>\n",
       "      <td>13-08-2021</td>\n",
       "      <td>8061116.0</td>\n",
       "      <td>7241093.0</td>\n",
       "      <td>8.282</td>\n",
       "      <td>7.439</td>\n",
       "      <td>820023.0</td>\n",
       "      <td>0.842</td>\n",
       "      <td>5.0</td>\n",
       "    </tr>\n",
       "    <tr>\n",
       "      <th>223</th>\n",
       "      <td>Wallis and Futuna</td>\n",
       "      <td>22-07-2021</td>\n",
       "      <td>9276.0</td>\n",
       "      <td>4674.0</td>\n",
       "      <td>82.483</td>\n",
       "      <td>41.561</td>\n",
       "      <td>4602.0</td>\n",
       "      <td>40.921</td>\n",
       "      <td>1.0</td>\n",
       "    </tr>\n",
       "    <tr>\n",
       "      <th>224</th>\n",
       "      <td>Yemen</td>\n",
       "      <td>27-07-2021</td>\n",
       "      <td>311483.0</td>\n",
       "      <td>298161.0</td>\n",
       "      <td>1.044</td>\n",
       "      <td>1.000</td>\n",
       "      <td>13322.0</td>\n",
       "      <td>0.045</td>\n",
       "      <td>1.0</td>\n",
       "    </tr>\n",
       "    <tr>\n",
       "      <th>225</th>\n",
       "      <td>Zambia</td>\n",
       "      <td>23-08-2021</td>\n",
       "      <td>503707.0</td>\n",
       "      <td>303966.0</td>\n",
       "      <td>2.740</td>\n",
       "      <td>1.653</td>\n",
       "      <td>199741.0</td>\n",
       "      <td>1.086</td>\n",
       "      <td>1.0</td>\n",
       "    </tr>\n",
       "    <tr>\n",
       "      <th>226</th>\n",
       "      <td>Zimbabwe</td>\n",
       "      <td>23-08-2021</td>\n",
       "      <td>3772579.0</td>\n",
       "      <td>2312417.0</td>\n",
       "      <td>25.382</td>\n",
       "      <td>15.558</td>\n",
       "      <td>1460162.0</td>\n",
       "      <td>9.824</td>\n",
       "      <td>3.0</td>\n",
       "    </tr>\n",
       "  </tbody>\n",
       "</table>\n",
       "<p>227 rows × 9 columns</p>\n",
       "</div>"
      ],
      "text/plain": [
       "               COUNTRY DATE_UPDATED  TOTAL_VACCINATIONS  \\\n",
       "0          Afghanistan   20-08-2021           1201286.0   \n",
       "1              Albania   17-08-2021           1340339.0   \n",
       "2              Algeria   23-08-2021           4146091.0   \n",
       "3       American Samoa   09-08-2021             52769.0   \n",
       "4              Andorra   15-08-2021             91660.0   \n",
       "..                 ...          ...                 ...   \n",
       "222           Viet Nam   13-08-2021           8061116.0   \n",
       "223  Wallis and Futuna   22-07-2021              9276.0   \n",
       "224              Yemen   27-07-2021            311483.0   \n",
       "225             Zambia   23-08-2021            503707.0   \n",
       "226           Zimbabwe   23-08-2021           3772579.0   \n",
       "\n",
       "     PERSONS_VACCINATED_1PLUS_DOSE  TOTAL_VACCINATIONS_PER100  \\\n",
       "0                         770542.0                      3.086   \n",
       "1                         764997.0                     46.575   \n",
       "2                        3421279.0                      9.455   \n",
       "3                          29210.0                     95.601   \n",
       "4                          51044.0                    118.631   \n",
       "..                             ...                        ...   \n",
       "222                      7241093.0                      8.282   \n",
       "223                         4674.0                     82.483   \n",
       "224                       298161.0                      1.044   \n",
       "225                       303966.0                      2.740   \n",
       "226                      2312417.0                     25.382   \n",
       "\n",
       "     PERSONS_VACCINATED_1PLUS_DOSE_PER100  PERSONS_FULLY_VACCINATED  \\\n",
       "0                                   1.979                  430744.0   \n",
       "1                                  26.583                  575342.0   \n",
       "2                                   7.802                  724812.0   \n",
       "3                                  52.920                   24104.0   \n",
       "4                                  66.064                   40616.0   \n",
       "..                                    ...                       ...   \n",
       "222                                 7.439                  820023.0   \n",
       "223                                41.561                    4602.0   \n",
       "224                                 1.000                   13322.0   \n",
       "225                                 1.653                  199741.0   \n",
       "226                                15.558                 1460162.0   \n",
       "\n",
       "     PERSONS_FULLY_VACCINATED_PER100  NUMBER_VACCINES_TYPES_USED  \n",
       "0                              1.107                         4.0  \n",
       "1                             19.992                         4.0  \n",
       "2                              1.653                         3.0  \n",
       "3                             43.669                         3.0  \n",
       "4                             52.567                         2.0  \n",
       "..                               ...                         ...  \n",
       "222                            0.842                         5.0  \n",
       "223                           40.921                         1.0  \n",
       "224                            0.045                         1.0  \n",
       "225                            1.086                         1.0  \n",
       "226                            9.824                         3.0  \n",
       "\n",
       "[227 rows x 9 columns]"
      ]
     },
     "execution_count": 6,
     "metadata": {},
     "output_type": "execute_result"
    }
   ],
   "source": [
    "df"
   ]
  },
  {
   "cell_type": "code",
   "execution_count": 7,
   "id": "15232f5d",
   "metadata": {},
   "outputs": [
    {
     "data": {
      "text/plain": [
       "COUNTRY                                  0\n",
       "DATE_UPDATED                             0\n",
       "TOTAL_VACCINATIONS                       1\n",
       "PERSONS_VACCINATED_1PLUS_DOSE            9\n",
       "TOTAL_VACCINATIONS_PER100                1\n",
       "PERSONS_VACCINATED_1PLUS_DOSE_PER100     9\n",
       "PERSONS_FULLY_VACCINATED                11\n",
       "PERSONS_FULLY_VACCINATED_PER100         11\n",
       "NUMBER_VACCINES_TYPES_USED               4\n",
       "dtype: int64"
      ]
     },
     "execution_count": 7,
     "metadata": {},
     "output_type": "execute_result"
    }
   ],
   "source": [
    "df.isna().sum()"
   ]
  },
  {
   "cell_type": "code",
   "execution_count": 8,
   "id": "0d7ed23e",
   "metadata": {},
   "outputs": [
    {
     "data": {
      "text/plain": [
       "TOTAL_VACCINATIONS    2.044237e+07\n",
       "dtype: float64"
      ]
     },
     "execution_count": 8,
     "metadata": {},
     "output_type": "execute_result"
    }
   ],
   "source": [
    "df[[\"TOTAL_VACCINATIONS\"]].mean()"
   ]
  },
  {
   "cell_type": "code",
   "execution_count": 9,
   "id": "47880f06",
   "metadata": {},
   "outputs": [],
   "source": [
    "df[[\"TOTAL_VACCINATIONS\"]]=df[[\"TOTAL_VACCINATIONS\"]].fillna(df[[\"TOTAL_VACCINATIONS\"]].mean())\n",
    "df[[\"PERSONS_VACCINATED_1PLUS_DOSE\"]]=df[[\"PERSONS_VACCINATED_1PLUS_DOSE\"]].fillna(df[[\"PERSONS_VACCINATED_1PLUS_DOSE\"]].mean())\n",
    "df[[\"PERSONS_VACCINATED_1PLUS_DOSE_PER100\"]]=df[[\"PERSONS_VACCINATED_1PLUS_DOSE_PER100\"]].fillna(df[[\"PERSONS_VACCINATED_1PLUS_DOSE_PER100\"]].mean())\n",
    "df[[\"PERSONS_FULLY_VACCINATED\"]]=df[[\"PERSONS_FULLY_VACCINATED\"]].fillna(df[[\"PERSONS_FULLY_VACCINATED\"]].mean())\n",
    "df[[\"PERSONS_FULLY_VACCINATED_PER100\"]]=df[[\"PERSONS_FULLY_VACCINATED_PER100\"]].fillna(df[[\"PERSONS_FULLY_VACCINATED_PER100\"]].mean())\n",
    "df[[\"TOTAL_VACCINATIONS_PER100\"]]=df[[\"TOTAL_VACCINATIONS_PER100\"]].fillna(df[[\"TOTAL_VACCINATIONS_PER100\"]].mean())\n",
    "df[[\"NUMBER_VACCINES_TYPES_USED\"]]=df[[\"NUMBER_VACCINES_TYPES_USED\"]].fillna(df[[\"NUMBER_VACCINES_TYPES_USED\"]].median())"
   ]
  },
  {
   "cell_type": "code",
   "execution_count": 10,
   "id": "dd8f8ce3",
   "metadata": {},
   "outputs": [
    {
     "data": {
      "text/plain": [
       "COUNTRY                                 0\n",
       "DATE_UPDATED                            0\n",
       "TOTAL_VACCINATIONS                      0\n",
       "PERSONS_VACCINATED_1PLUS_DOSE           0\n",
       "TOTAL_VACCINATIONS_PER100               0\n",
       "PERSONS_VACCINATED_1PLUS_DOSE_PER100    0\n",
       "PERSONS_FULLY_VACCINATED                0\n",
       "PERSONS_FULLY_VACCINATED_PER100         0\n",
       "NUMBER_VACCINES_TYPES_USED              0\n",
       "dtype: int64"
      ]
     },
     "execution_count": 10,
     "metadata": {},
     "output_type": "execute_result"
    }
   ],
   "source": [
    "df.isna().sum()"
   ]
  },
  {
   "cell_type": "code",
   "execution_count": 11,
   "id": "e51d5a4a",
   "metadata": {},
   "outputs": [],
   "source": [
    "top5vacc=df.sort_values(by=[\"TOTAL_VACCINATIONS\"], ascending=False).head(5)"
   ]
  },
  {
   "cell_type": "code",
   "execution_count": 12,
   "id": "9b478f01",
   "metadata": {},
   "outputs": [
    {
     "data": {
      "text/html": [
       "<div>\n",
       "<style scoped>\n",
       "    .dataframe tbody tr th:only-of-type {\n",
       "        vertical-align: middle;\n",
       "    }\n",
       "\n",
       "    .dataframe tbody tr th {\n",
       "        vertical-align: top;\n",
       "    }\n",
       "\n",
       "    .dataframe thead th {\n",
       "        text-align: right;\n",
       "    }\n",
       "</style>\n",
       "<table border=\"1\" class=\"dataframe\">\n",
       "  <thead>\n",
       "    <tr style=\"text-align: right;\">\n",
       "      <th></th>\n",
       "      <th>COUNTRY</th>\n",
       "      <th>DATE_UPDATED</th>\n",
       "      <th>TOTAL_VACCINATIONS</th>\n",
       "      <th>PERSONS_VACCINATED_1PLUS_DOSE</th>\n",
       "      <th>TOTAL_VACCINATIONS_PER100</th>\n",
       "      <th>PERSONS_VACCINATED_1PLUS_DOSE_PER100</th>\n",
       "      <th>PERSONS_FULLY_VACCINATED</th>\n",
       "      <th>PERSONS_FULLY_VACCINATED_PER100</th>\n",
       "      <th>NUMBER_VACCINES_TYPES_USED</th>\n",
       "    </tr>\n",
       "  </thead>\n",
       "  <tbody>\n",
       "    <tr>\n",
       "      <th>42</th>\n",
       "      <td>China</td>\n",
       "      <td>14-08-2021</td>\n",
       "      <td>1.776816e+09</td>\n",
       "      <td>8.253955e+06</td>\n",
       "      <td>120.766</td>\n",
       "      <td>35.854991</td>\n",
       "      <td>4.889511e+06</td>\n",
       "      <td>28.128968</td>\n",
       "      <td>6.0</td>\n",
       "    </tr>\n",
       "    <tr>\n",
       "      <th>93</th>\n",
       "      <td>India</td>\n",
       "      <td>17-08-2021</td>\n",
       "      <td>5.606520e+08</td>\n",
       "      <td>4.357201e+08</td>\n",
       "      <td>40.627</td>\n",
       "      <td>31.574000</td>\n",
       "      <td>1.249320e+08</td>\n",
       "      <td>9.053000</td>\n",
       "      <td>5.0</td>\n",
       "    </tr>\n",
       "    <tr>\n",
       "      <th>217</th>\n",
       "      <td>United States of America</td>\n",
       "      <td>20-08-2021</td>\n",
       "      <td>3.611922e+08</td>\n",
       "      <td>2.051088e+08</td>\n",
       "      <td>109.121</td>\n",
       "      <td>61.966000</td>\n",
       "      <td>1.701386e+08</td>\n",
       "      <td>51.401000</td>\n",
       "      <td>3.0</td>\n",
       "    </tr>\n",
       "    <tr>\n",
       "      <th>29</th>\n",
       "      <td>Brazil</td>\n",
       "      <td>20-08-2021</td>\n",
       "      <td>1.659604e+08</td>\n",
       "      <td>1.198680e+08</td>\n",
       "      <td>78.077</td>\n",
       "      <td>56.393000</td>\n",
       "      <td>5.043810e+07</td>\n",
       "      <td>23.729000</td>\n",
       "      <td>5.0</td>\n",
       "    </tr>\n",
       "    <tr>\n",
       "      <th>76</th>\n",
       "      <td>Germany</td>\n",
       "      <td>20-08-2021</td>\n",
       "      <td>9.934094e+07</td>\n",
       "      <td>5.317302e+07</td>\n",
       "      <td>119.448</td>\n",
       "      <td>63.935000</td>\n",
       "      <td>4.886087e+07</td>\n",
       "      <td>58.751000</td>\n",
       "      <td>4.0</td>\n",
       "    </tr>\n",
       "  </tbody>\n",
       "</table>\n",
       "</div>"
      ],
      "text/plain": [
       "                      COUNTRY DATE_UPDATED  TOTAL_VACCINATIONS  \\\n",
       "42                      China   14-08-2021        1.776816e+09   \n",
       "93                      India   17-08-2021        5.606520e+08   \n",
       "217  United States of America   20-08-2021        3.611922e+08   \n",
       "29                     Brazil   20-08-2021        1.659604e+08   \n",
       "76                    Germany   20-08-2021        9.934094e+07   \n",
       "\n",
       "     PERSONS_VACCINATED_1PLUS_DOSE  TOTAL_VACCINATIONS_PER100  \\\n",
       "42                    8.253955e+06                    120.766   \n",
       "93                    4.357201e+08                     40.627   \n",
       "217                   2.051088e+08                    109.121   \n",
       "29                    1.198680e+08                     78.077   \n",
       "76                    5.317302e+07                    119.448   \n",
       "\n",
       "     PERSONS_VACCINATED_1PLUS_DOSE_PER100  PERSONS_FULLY_VACCINATED  \\\n",
       "42                              35.854991              4.889511e+06   \n",
       "93                              31.574000              1.249320e+08   \n",
       "217                             61.966000              1.701386e+08   \n",
       "29                              56.393000              5.043810e+07   \n",
       "76                              63.935000              4.886087e+07   \n",
       "\n",
       "     PERSONS_FULLY_VACCINATED_PER100  NUMBER_VACCINES_TYPES_USED  \n",
       "42                         28.128968                         6.0  \n",
       "93                          9.053000                         5.0  \n",
       "217                        51.401000                         3.0  \n",
       "29                         23.729000                         5.0  \n",
       "76                         58.751000                         4.0  "
      ]
     },
     "execution_count": 12,
     "metadata": {},
     "output_type": "execute_result"
    }
   ],
   "source": [
    "top5vacc"
   ]
  },
  {
   "cell_type": "code",
   "execution_count": 13,
   "id": "3917e385",
   "metadata": {},
   "outputs": [
    {
     "data": {
      "text/plain": [
       "<seaborn.axisgrid.FacetGrid at 0x205d3c5fb50>"
      ]
     },
     "execution_count": 13,
     "metadata": {},
     "output_type": "execute_result"
    },
    {
     "data": {
      "image/png": "[encoded data removed]",
      "text/plain": [
       "<Figure size 360x360 with 1 Axes>"
      ]
     },
     "metadata": {
      "needs_background": "light"
     },
     "output_type": "display_data"
    }
   ],
   "source": [
    "g=sns.catplot(data=top5vacc, x=\"COUNTRY\", y=\"TOTAL_VACCINATIONS\", kind=\"bar\")\n",
    "g"
   ]
  },
  {
   "cell_type": "code",
   "execution_count": 14,
   "id": "7d12448b",
   "metadata": {},
   "outputs": [
    {
     "data": {
      "text/plain": [
       "<AxesSubplot:xlabel='NUMBER_VACCINES_TYPES_USED', ylabel='TOTAL_VACCINATIONS'>"
      ]
     },
     "execution_count": 14,
     "metadata": {},
     "output_type": "execute_result"
    },
    {
     "data": {
      "image/png": "[encoded data removed]",
      "text/plain": [
       "<Figure size 432x288 with 1 Axes>"
      ]
     },
     "metadata": {
      "needs_background": "light"
     },
     "output_type": "display_data"
    }
   ],
   "source": [
    "sns.stripplot(data=df, x=\"NUMBER_VACCINES_TYPES_USED\", y=\"TOTAL_VACCINATIONS\")"
   ]
  },
  {
   "cell_type": "code",
   "execution_count": 47,
   "id": "8d4b1a3b",
   "metadata": {},
   "outputs": [
    {
     "data": {
      "text/html": [
       "<div>\n",
       "<style scoped>\n",
       "    .dataframe tbody tr th:only-of-type {\n",
       "        vertical-align: middle;\n",
       "    }\n",
       "\n",
       "    .dataframe tbody tr th {\n",
       "        vertical-align: top;\n",
       "    }\n",
       "\n",
       "    .dataframe thead th {\n",
       "        text-align: right;\n",
       "    }\n",
       "</style>\n",
       "<table border=\"1\" class=\"dataframe\">\n",
       "  <thead>\n",
       "    <tr style=\"text-align: right;\">\n",
       "      <th></th>\n",
       "      <th>COUNTRY</th>\n",
       "      <th>TOTAL_VACCINATIONS</th>\n",
       "      <th>PERSONS_VACCINATED_1PLUS_DOSE</th>\n",
       "      <th>PERSONS_FULLY_VACCINATED</th>\n",
       "    </tr>\n",
       "  </thead>\n",
       "  <tbody>\n",
       "    <tr>\n",
       "      <th>161</th>\n",
       "      <td>Pitcairn Islands</td>\n",
       "      <td>7.300000e+01</td>\n",
       "      <td>3.700000e+01</td>\n",
       "      <td>3.600000e+01</td>\n",
       "    </tr>\n",
       "    <tr>\n",
       "      <th>205</th>\n",
       "      <td>Tokelau</td>\n",
       "      <td>9.680000e+02</td>\n",
       "      <td>9.680000e+02</td>\n",
       "      <td>4.889511e+06</td>\n",
       "    </tr>\n",
       "    <tr>\n",
       "      <th>171</th>\n",
       "      <td>Saba</td>\n",
       "      <td>1.300000e+03</td>\n",
       "      <td>8.253955e+06</td>\n",
       "      <td>1.300000e+03</td>\n",
       "    </tr>\n",
       "    <tr>\n",
       "      <th>148</th>\n",
       "      <td>Niue</td>\n",
       "      <td>2.352000e+03</td>\n",
       "      <td>1.202000e+03</td>\n",
       "      <td>1.150000e+03</td>\n",
       "    </tr>\n",
       "    <tr>\n",
       "      <th>185</th>\n",
       "      <td>Sint Eustatius</td>\n",
       "      <td>2.734000e+03</td>\n",
       "      <td>1.414000e+03</td>\n",
       "      <td>1.320000e+03</td>\n",
       "    </tr>\n",
       "    <tr>\n",
       "      <th>...</th>\n",
       "      <td>...</td>\n",
       "      <td>...</td>\n",
       "      <td>...</td>\n",
       "      <td>...</td>\n",
       "    </tr>\n",
       "    <tr>\n",
       "      <th>76</th>\n",
       "      <td>Germany</td>\n",
       "      <td>9.934094e+07</td>\n",
       "      <td>5.317302e+07</td>\n",
       "      <td>4.886087e+07</td>\n",
       "    </tr>\n",
       "    <tr>\n",
       "      <th>29</th>\n",
       "      <td>Brazil</td>\n",
       "      <td>1.659604e+08</td>\n",
       "      <td>1.198680e+08</td>\n",
       "      <td>5.043810e+07</td>\n",
       "    </tr>\n",
       "    <tr>\n",
       "      <th>217</th>\n",
       "      <td>United States of America</td>\n",
       "      <td>3.611922e+08</td>\n",
       "      <td>2.051088e+08</td>\n",
       "      <td>1.701386e+08</td>\n",
       "    </tr>\n",
       "    <tr>\n",
       "      <th>93</th>\n",
       "      <td>India</td>\n",
       "      <td>5.606520e+08</td>\n",
       "      <td>4.357201e+08</td>\n",
       "      <td>1.249320e+08</td>\n",
       "    </tr>\n",
       "    <tr>\n",
       "      <th>42</th>\n",
       "      <td>China</td>\n",
       "      <td>1.776816e+09</td>\n",
       "      <td>8.253955e+06</td>\n",
       "      <td>4.889511e+06</td>\n",
       "    </tr>\n",
       "  </tbody>\n",
       "</table>\n",
       "<p>227 rows × 4 columns</p>\n",
       "</div>"
      ],
      "text/plain": [
       "                      COUNTRY  TOTAL_VACCINATIONS  \\\n",
       "161          Pitcairn Islands        7.300000e+01   \n",
       "205                   Tokelau        9.680000e+02   \n",
       "171                      Saba        1.300000e+03   \n",
       "148                      Niue        2.352000e+03   \n",
       "185            Sint Eustatius        2.734000e+03   \n",
       "..                        ...                 ...   \n",
       "76                    Germany        9.934094e+07   \n",
       "29                     Brazil        1.659604e+08   \n",
       "217  United States of America        3.611922e+08   \n",
       "93                      India        5.606520e+08   \n",
       "42                      China        1.776816e+09   \n",
       "\n",
       "     PERSONS_VACCINATED_1PLUS_DOSE  PERSONS_FULLY_VACCINATED  \n",
       "161                   3.700000e+01              3.600000e+01  \n",
       "205                   9.680000e+02              4.889511e+06  \n",
       "171                   8.253955e+06              1.300000e+03  \n",
       "148                   1.202000e+03              1.150000e+03  \n",
       "185                   1.414000e+03              1.320000e+03  \n",
       "..                             ...                       ...  \n",
       "76                    5.317302e+07              4.886087e+07  \n",
       "29                    1.198680e+08              5.043810e+07  \n",
       "217                   2.051088e+08              1.701386e+08  \n",
       "93                    4.357201e+08              1.249320e+08  \n",
       "42                    8.253955e+06              4.889511e+06  \n",
       "\n",
       "[227 rows x 4 columns]"
      ]
     },
     "execution_count": 47,
     "metadata": {},
     "output_type": "execute_result"
    }
   ],
   "source": [
    "df1.sort_values(by=[\"TOTAL_VACCINATIONS\"])"
   ]
  },
  {
   "cell_type": "code",
   "execution_count": 58,
   "id": "924b43f3",
   "metadata": {},
   "outputs": [
    {
     "data": {
      "text/html": [
       "<div>\n",
       "<style scoped>\n",
       "    .dataframe tbody tr th:only-of-type {\n",
       "        vertical-align: middle;\n",
       "    }\n",
       "\n",
       "    .dataframe tbody tr th {\n",
       "        vertical-align: top;\n",
       "    }\n",
       "\n",
       "    .dataframe thead th {\n",
       "        text-align: right;\n",
       "    }\n",
       "</style>\n",
       "<table border=\"1\" class=\"dataframe\">\n",
       "  <thead>\n",
       "    <tr style=\"text-align: right;\">\n",
       "      <th></th>\n",
       "      <th>COUNTRY</th>\n",
       "      <th>TOTAL_VACCINATIONS</th>\n",
       "      <th>PERSONS_VACCINATED_1PLUS_DOSE</th>\n",
       "      <th>PERSONS_FULLY_VACCINATED</th>\n",
       "    </tr>\n",
       "  </thead>\n",
       "  <tbody>\n",
       "    <tr>\n",
       "      <th>93</th>\n",
       "      <td>India</td>\n",
       "      <td>560652030.0</td>\n",
       "      <td>435720056.0</td>\n",
       "      <td>124931974.0</td>\n",
       "    </tr>\n",
       "  </tbody>\n",
       "</table>\n",
       "</div>"
      ],
      "text/plain": [
       "   COUNTRY TOTAL_VACCINATIONS PERSONS_VACCINATED_1PLUS_DOSE  \\\n",
       "93   India        560652030.0                   435720056.0   \n",
       "\n",
       "   PERSONS_FULLY_VACCINATED  \n",
       "93              124931974.0  "
      ]
     },
     "execution_count": 58,
     "metadata": {},
     "output_type": "execute_result"
    }
   ],
   "source": [
    "india=df1.loc[93].to_frame().T\n",
    "india"
   ]
  },
  {
   "cell_type": "code",
   "execution_count": 16,
   "id": "ef7534f5",
   "metadata": {},
   "outputs": [],
   "source": [
    "df1=df[[\"COUNTRY\", \"TOTAL_VACCINATIONS\", \"PERSONS_VACCINATED_1PLUS_DOSE\", \"PERSONS_FULLY_VACCINATED\"]]"
   ]
  },
  {
   "cell_type": "code",
   "execution_count": 52,
   "id": "32021ed7",
   "metadata": {},
   "outputs": [
    {
     "data": {
      "text/html": [
       "<div>\n",
       "<style scoped>\n",
       "    .dataframe tbody tr th:only-of-type {\n",
       "        vertical-align: middle;\n",
       "    }\n",
       "\n",
       "    .dataframe tbody tr th {\n",
       "        vertical-align: top;\n",
       "    }\n",
       "\n",
       "    .dataframe thead th {\n",
       "        text-align: right;\n",
       "    }\n",
       "</style>\n",
       "<table border=\"1\" class=\"dataframe\">\n",
       "  <thead>\n",
       "    <tr style=\"text-align: right;\">\n",
       "      <th></th>\n",
       "      <th>COUNTRY</th>\n",
       "      <th>TOTAL_VACCINATIONS</th>\n",
       "      <th>PERSONS_VACCINATED_1PLUS_DOSE</th>\n",
       "      <th>PERSONS_FULLY_VACCINATED</th>\n",
       "    </tr>\n",
       "  </thead>\n",
       "  <tbody>\n",
       "    <tr>\n",
       "      <th>0</th>\n",
       "      <td>Afghanistan</td>\n",
       "      <td>1201286.0</td>\n",
       "      <td>770542.0</td>\n",
       "      <td>430744.0</td>\n",
       "    </tr>\n",
       "    <tr>\n",
       "      <th>1</th>\n",
       "      <td>Albania</td>\n",
       "      <td>1340339.0</td>\n",
       "      <td>764997.0</td>\n",
       "      <td>575342.0</td>\n",
       "    </tr>\n",
       "    <tr>\n",
       "      <th>2</th>\n",
       "      <td>Algeria</td>\n",
       "      <td>4146091.0</td>\n",
       "      <td>3421279.0</td>\n",
       "      <td>724812.0</td>\n",
       "    </tr>\n",
       "    <tr>\n",
       "      <th>3</th>\n",
       "      <td>American Samoa</td>\n",
       "      <td>52769.0</td>\n",
       "      <td>29210.0</td>\n",
       "      <td>24104.0</td>\n",
       "    </tr>\n",
       "    <tr>\n",
       "      <th>4</th>\n",
       "      <td>Andorra</td>\n",
       "      <td>91660.0</td>\n",
       "      <td>51044.0</td>\n",
       "      <td>40616.0</td>\n",
       "    </tr>\n",
       "    <tr>\n",
       "      <th>...</th>\n",
       "      <td>...</td>\n",
       "      <td>...</td>\n",
       "      <td>...</td>\n",
       "      <td>...</td>\n",
       "    </tr>\n",
       "    <tr>\n",
       "      <th>222</th>\n",
       "      <td>Viet Nam</td>\n",
       "      <td>8061116.0</td>\n",
       "      <td>7241093.0</td>\n",
       "      <td>820023.0</td>\n",
       "    </tr>\n",
       "    <tr>\n",
       "      <th>223</th>\n",
       "      <td>Wallis and Futuna</td>\n",
       "      <td>9276.0</td>\n",
       "      <td>4674.0</td>\n",
       "      <td>4602.0</td>\n",
       "    </tr>\n",
       "    <tr>\n",
       "      <th>224</th>\n",
       "      <td>Yemen</td>\n",
       "      <td>311483.0</td>\n",
       "      <td>298161.0</td>\n",
       "      <td>13322.0</td>\n",
       "    </tr>\n",
       "    <tr>\n",
       "      <th>225</th>\n",
       "      <td>Zambia</td>\n",
       "      <td>503707.0</td>\n",
       "      <td>303966.0</td>\n",
       "      <td>199741.0</td>\n",
       "    </tr>\n",
       "    <tr>\n",
       "      <th>226</th>\n",
       "      <td>Zimbabwe</td>\n",
       "      <td>3772579.0</td>\n",
       "      <td>2312417.0</td>\n",
       "      <td>1460162.0</td>\n",
       "    </tr>\n",
       "  </tbody>\n",
       "</table>\n",
       "<p>227 rows × 4 columns</p>\n",
       "</div>"
      ],
      "text/plain": [
       "               COUNTRY  TOTAL_VACCINATIONS  PERSONS_VACCINATED_1PLUS_DOSE  \\\n",
       "0          Afghanistan           1201286.0                       770542.0   \n",
       "1              Albania           1340339.0                       764997.0   \n",
       "2              Algeria           4146091.0                      3421279.0   \n",
       "3       American Samoa             52769.0                        29210.0   \n",
       "4              Andorra             91660.0                        51044.0   \n",
       "..                 ...                 ...                            ...   \n",
       "222           Viet Nam           8061116.0                      7241093.0   \n",
       "223  Wallis and Futuna              9276.0                         4674.0   \n",
       "224              Yemen            311483.0                       298161.0   \n",
       "225             Zambia            503707.0                       303966.0   \n",
       "226           Zimbabwe           3772579.0                      2312417.0   \n",
       "\n",
       "     PERSONS_FULLY_VACCINATED  \n",
       "0                    430744.0  \n",
       "1                    575342.0  \n",
       "2                    724812.0  \n",
       "3                     24104.0  \n",
       "4                     40616.0  \n",
       "..                        ...  \n",
       "222                  820023.0  \n",
       "223                    4602.0  \n",
       "224                   13322.0  \n",
       "225                  199741.0  \n",
       "226                 1460162.0  \n",
       "\n",
       "[227 rows x 4 columns]"
      ]
     },
     "execution_count": 52,
     "metadata": {},
     "output_type": "execute_result"
    }
   ],
   "source": [
    "df1"
   ]
  },
  {
   "cell_type": "code",
   "execution_count": 59,
   "id": "acc24140",
   "metadata": {},
   "outputs": [],
   "source": [
    "dfs=pd.melt(india, id_vars=\"COUNTRY\")"
   ]
  },
  {
   "cell_type": "code",
   "execution_count": 60,
   "id": "8c3ac541",
   "metadata": {
    "scrolled": true
   },
   "outputs": [
    {
     "data": {
      "text/html": [
       "<div>\n",
       "<style scoped>\n",
       "    .dataframe tbody tr th:only-of-type {\n",
       "        vertical-align: middle;\n",
       "    }\n",
       "\n",
       "    .dataframe tbody tr th {\n",
       "        vertical-align: top;\n",
       "    }\n",
       "\n",
       "    .dataframe thead th {\n",
       "        text-align: right;\n",
       "    }\n",
       "</style>\n",
       "<table border=\"1\" class=\"dataframe\">\n",
       "  <thead>\n",
       "    <tr style=\"text-align: right;\">\n",
       "      <th></th>\n",
       "      <th>COUNTRY</th>\n",
       "      <th>variable</th>\n",
       "      <th>value</th>\n",
       "    </tr>\n",
       "  </thead>\n",
       "  <tbody>\n",
       "    <tr>\n",
       "      <th>0</th>\n",
       "      <td>India</td>\n",
       "      <td>TOTAL_VACCINATIONS</td>\n",
       "      <td>560652030.0</td>\n",
       "    </tr>\n",
       "    <tr>\n",
       "      <th>1</th>\n",
       "      <td>India</td>\n",
       "      <td>PERSONS_VACCINATED_1PLUS_DOSE</td>\n",
       "      <td>435720056.0</td>\n",
       "    </tr>\n",
       "    <tr>\n",
       "      <th>2</th>\n",
       "      <td>India</td>\n",
       "      <td>PERSONS_FULLY_VACCINATED</td>\n",
       "      <td>124931974.0</td>\n",
       "    </tr>\n",
       "  </tbody>\n",
       "</table>\n",
       "</div>"
      ],
      "text/plain": [
       "  COUNTRY                       variable        value\n",
       "0   India             TOTAL_VACCINATIONS  560652030.0\n",
       "1   India  PERSONS_VACCINATED_1PLUS_DOSE  435720056.0\n",
       "2   India       PERSONS_FULLY_VACCINATED  124931974.0"
      ]
     },
     "execution_count": 60,
     "metadata": {},
     "output_type": "execute_result"
    }
   ],
   "source": [
    "dfs"
   ]
  },
  {
   "cell_type": "code",
   "execution_count": 66,
   "id": "2db7e05a",
   "metadata": {},
   "outputs": [
    {
     "data": {
      "text/plain": [
       "<seaborn.axisgrid.FacetGrid at 0x205d4301610>"
      ]
     },
     "execution_count": 66,
     "metadata": {},
     "output_type": "execute_result"
    },
    {
     "data": {
      "image/png": "[encoded data removed]",
      "text/plain": [
       "<Figure size 607.1x360 with 1 Axes>"
      ]
     },
     "metadata": {
      "needs_background": "light"
     },
     "output_type": "display_data"
    }
   ],
   "source": [
    "sns.catplot(data=dfs, x=\"COUNTRY\", y=\"value\", hue=\"variable\", kind=\"bar\")"
   ]
  },
  {
   "cell_type": "code",
   "execution_count": null,
   "id": "65ecc6ae",
   "metadata": {},
   "outputs": [],
   "source": []
  }
 ],
 "metadata": {
  "kernelspec": {
   "display_name": "Python 3",
   "language": "python",
   "name": "python3"
  },
  "language_info": {
   "codemirror_mode": {
    "name": "ipython",
    "version": 3
   },
   "file_extension": ".py",
   "mimetype": "text/x-python",
   "name": "python",
   "nbconvert_exporter": "python",
   "pygments_lexer": "ipython3",
   "version": "3.8.8"
  }
 },
 "nbformat": 4,
 "nbformat_minor": 5
}
